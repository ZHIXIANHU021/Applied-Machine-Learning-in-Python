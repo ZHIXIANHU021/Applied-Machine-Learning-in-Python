{
 "cells": [
  {
   "cell_type": "markdown",
   "metadata": {},
   "source": [
    "---\n",
    "\n",
    "_You are currently looking at **version 1.1** of this notebook. To download notebooks and datafiles, as well as get help on Jupyter notebooks in the Coursera platform, visit the [Jupyter Notebook FAQ](https://www.coursera.org/learn/python-machine-learning/resources/bANLa) course resource._\n",
    "\n",
    "---"
   ]
  },
  {
   "cell_type": "markdown",
   "metadata": {},
   "source": [
    "## Assignment 4 - Understanding and Predicting Property Maintenance Fines\n",
    "\n",
    "This assignment is based on a data challenge from the Michigan Data Science Team ([MDST](http://midas.umich.edu/mdst/)). \n",
    "\n",
    "The Michigan Data Science Team ([MDST](http://midas.umich.edu/mdst/)) and the Michigan Student Symposium for Interdisciplinary Statistical Sciences ([MSSISS](https://sites.lsa.umich.edu/mssiss/)) have partnered with the City of Detroit to help solve one of the most pressing problems facing Detroit - blight. [Blight violations](http://www.detroitmi.gov/How-Do-I/Report/Blight-Complaint-FAQs) are issued by the city to individuals who allow their properties to remain in a deteriorated condition. Every year, the city of Detroit issues millions of dollars in fines to residents and every year, many of these fines remain unpaid. Enforcing unpaid blight fines is a costly and tedious process, so the city wants to know: how can we increase blight ticket compliance?\n",
    "\n",
    "The first step in answering this question is understanding when and why a resident might fail to comply with a blight ticket. This is where predictive modeling comes in. For this assignment, your task is to predict whether a given blight ticket will be paid on time.\n",
    "\n",
    "All data for this assignment has been provided to us through the [Detroit Open Data Portal](https://data.detroitmi.gov/). **Only the data already included in your Coursera directory can be used for training the model for this assignment.** Nonetheless, we encourage you to look into data from other Detroit datasets to help inform feature creation and model selection. We recommend taking a look at the following related datasets:\n",
    "\n",
    "* [Building Permits](https://data.detroitmi.gov/Property-Parcels/Building-Permits/xw2a-a7tf)\n",
    "* [Trades Permits](https://data.detroitmi.gov/Property-Parcels/Trades-Permits/635b-dsgv)\n",
    "* [Improve Detroit: Submitted Issues](https://data.detroitmi.gov/Government/Improve-Detroit-Submitted-Issues/fwz3-w3yn)\n",
    "* [DPD: Citizen Complaints](https://data.detroitmi.gov/Public-Safety/DPD-Citizen-Complaints-2016/kahe-efs3)\n",
    "* [Parcel Map](https://data.detroitmi.gov/Property-Parcels/Parcel-Map/fxkw-udwf)\n",
    "\n",
    "___\n",
    "\n",
    "We provide you with two data files for use in training and validating your models: train.csv and test.csv. Each row in these two files corresponds to a single blight ticket, and includes information about when, why, and to whom each ticket was issued. The target variable is compliance, which is True if the ticket was paid early, on time, or within one month of the hearing data, False if the ticket was paid after the hearing date or not at all, and Null if the violator was found not responsible. Compliance, as well as a handful of other variables that will not be available at test-time, are only included in train.csv.\n",
    "\n",
    "Note: All tickets where the violators were found not responsible are not considered during evaluation. They are included in the training set as an additional source of data for visualization, and to enable unsupervised and semi-supervised approaches. However, they are not included in the test set.\n",
    "\n",
    "<br>\n",
    "\n",
    "**File descriptions** (Use only this data for training your model!)\n",
    "\n",
    "    readonly/train.csv - the training set (all tickets issued 2004-2011)\n",
    "    readonly/test.csv - the test set (all tickets issued 2012-2016)\n",
    "    readonly/addresses.csv & readonly/latlons.csv - mapping from ticket id to addresses, and from addresses to lat/lon coordinates. \n",
    "     Note: misspelled addresses may be incorrectly geolocated.\n",
    "\n",
    "<br>\n",
    "\n",
    "**Data fields**\n",
    "\n",
    "train.csv & test.csv\n",
    "\n",
    "    ticket_id - unique identifier for tickets\n",
    "    agency_name - Agency that issued the ticket\n",
    "    inspector_name - Name of inspector that issued the ticket\n",
    "    violator_name - Name of the person/organization that the ticket was issued to\n",
    "    violation_street_number, violation_street_name, violation_zip_code - Address where the violation occurred\n",
    "    mailing_address_str_number, mailing_address_str_name, city, state, zip_code, non_us_str_code, country - Mailing address of the violator\n",
    "    ticket_issued_date - Date and time the ticket was issued\n",
    "    hearing_date - Date and time the violator's hearing was scheduled\n",
    "    violation_code, violation_description - Type of violation\n",
    "    disposition - Judgment and judgement type\n",
    "    fine_amount - Violation fine amount, excluding fees\n",
    "    admin_fee - $20 fee assigned to responsible judgments\n",
    "state_fee - $10 fee assigned to responsible judgments\n",
    "    late_fee - 10% fee assigned to responsible judgments\n",
    "    discount_amount - discount applied, if any\n",
    "    clean_up_cost - DPW clean-up or graffiti removal cost\n",
    "    judgment_amount - Sum of all fines and fees\n",
    "    grafitti_status - Flag for graffiti violations\n",
    "    \n",
    "train.csv only\n",
    "\n",
    "    payment_amount - Amount paid, if any\n",
    "    payment_date - Date payment was made, if it was received\n",
    "    payment_status - Current payment status as of Feb 1 2017\n",
    "    balance_due - Fines and fees still owed\n",
    "    collection_status - Flag for payments in collections\n",
    "    compliance [target variable for prediction] \n",
    "     Null = Not responsible\n",
    "     0 = Responsible, non-compliant\n",
    "     1 = Responsible, compliant\n",
    "    compliance_detail - More information on why each ticket was marked compliant or non-compliant\n",
    "\n",
    "\n",
    "___\n",
    "\n",
    "## Evaluation\n",
    "\n",
    "Your predictions will be given as the probability that the corresponding blight ticket will be paid on time.\n",
    "\n",
    "The evaluation metric for this assignment is the Area Under the ROC Curve (AUC). \n",
    "\n",
    "Your grade will be based on the AUC score computed for your classifier. A model which with an AUROC of 0.7 passes this assignment, over 0.75 will recieve full points.\n",
    "___\n",
    "\n",
    "For this assignment, create a function that trains a model to predict blight ticket compliance in Detroit using `readonly/train.csv`. Using this model, return a series of length 61001 with the data being the probability that each corresponding ticket from `readonly/test.csv` will be paid, and the index being the ticket_id.\n",
    "\n",
    "Example:\n",
    "\n",
    "    ticket_id\n",
    "       284932    0.531842\n",
    "       285362    0.401958\n",
    "       285361    0.105928\n",
    "       285338    0.018572\n",
    "                 ...\n",
    "       376499    0.208567\n",
    "       376500    0.818759\n",
    "       369851    0.018528\n",
    "       Name: compliance, dtype: float32\n",
    "       \n",
    "### Hints\n",
    "\n",
    "* Make sure your code is working before submitting it to the autograder.\n",
    "\n",
    "* Print out your result to see whether there is anything weird (e.g., all probabilities are the same).\n",
    "\n",
    "* Generally the total runtime should be less than 10 mins. You should NOT use Neural Network related classifiers (e.g., MLPClassifier) in this question. \n",
    "\n",
    "* Try to avoid global variables. If you have other functions besides blight_model, you should move those functions inside the scope of blight_model.\n",
    "\n",
    "* Refer to the pinned threads in Week 4's discussion forum when there is something you could not figure it out."
   ]
  },
  {
   "cell_type": "code",
   "execution_count": 16,
   "metadata": {
    "collapsed": true
   },
   "outputs": [],
   "source": [
    "import pandas as pd\n",
    "import numpy as np\n",
    "from sklearn.model_selection import train_test_split\n",
    "from sklearn.metrics import roc_auc_score\n",
    "from sklearn.ensemble import RandomForestRegressor\n",
    "from sklearn.model_selection import GridSearchCV\n",
    "\n",
    "def blight_model():\n",
    "    \n",
    "    train_df = pd.read_csv('train.csv', encoding = 'ISO-8859-1')\n",
    "    test_df = pd.read_csv('test.csv', encoding = 'ISO-8859-1')\n",
    "    train_df = train_df[pd.notnull(train_df['compliance'])]\n",
    "    test_df.set_index('ticket_id', inplace = True)\n",
    "    \n",
    "    target = ['compliance']\n",
    "    features = ['fine_amount', 'admin_fee', 'state_fee', 'discount_amount', 'judgment_amount']\n",
    "    X_train, X_test, y_train, y_test = train_test_split(train_df[features], train_df[target], test_size = 0.2)\n",
    "    rm = RandomForestRegressor()\n",
    "    grid_values = {'n_estimators': [10, 100], 'max_depth': [5, 10, 20, 30]}\n",
    "    grid_rm = GridSearchCV(rm, param_grid = grid_values, scoring = 'roc_auc').fit(train_df[features], train_df[target])\n",
    "    print('Grid best parameter(max.AUC) is: ', grid_rm.best_params_)\n",
    "    print('Grid best score(AUC) is: {:.2f}'.format(grid_rm.best_score_))\n",
    "    y_pred = grid_rm.predict(test_df[features])\n",
    "    ans = pd.DataFrame(y_pred, index = test_df.index)\n",
    "    \n",
    "    return ans"
   ]
  },
  {
   "cell_type": "code",
   "execution_count": 82,
   "metadata": {
    "collapsed": false
   },
   "outputs": [],
   "source": [
    "blight_model()"
   ]
  },
  {
   "cell_type": "code",
   "execution_count": 18,
   "metadata": {
    "collapsed": false
   },
   "outputs": [
    {
     "name": "stderr",
     "output_type": "stream",
     "text": [
      "/opt/conda/lib/python3.6/site-packages/IPython/core/interactiveshell.py:2717: DtypeWarning: Columns (11,12,31) have mixed types. Specify dtype option on import or set low_memory=False.\n",
      "  interactivity=interactivity, compiler=compiler, result=result)\n"
     ]
    }
   ],
   "source": [
    "train_df = pd.read_csv('readonly/train.csv', encoding = 'ISO-8859-1')\n",
    "test_df = pd.read_csv('readonly/test.csv')\n",
    "train_df = train_df[pd.notnull(train_df['compliance'])]\n",
    "test_df.set_index('ticket_id', inplace = True)\n",
    "target = ['compliance']\n",
    "features = ['fine_amount', 'discount_amount', 'judgment_amount', 'late_fee','admin_fee', 'state_fee']\n",
    "X_train, X_test, y_train, y_test = train_test_split(train_df[features], train_df[target])"
   ]
  },
  {
   "cell_type": "code",
   "execution_count": 32,
   "metadata": {
    "collapsed": true
   },
   "outputs": [],
   "source": [
    "from sklearn.preprocessing import StandardScaler\n",
    "from sklearn.decomposition import PCA\n",
    "train_normalized = StandardScaler().fit(train_df[features]).transform(train_df[features])\n",
    "pca = PCA(n_components = 2).fit(train_normalized)\n",
    "train_pca = pca.transform(train_normalized)"
   ]
  },
  {
   "cell_type": "code",
   "execution_count": 33,
   "metadata": {
    "collapsed": false
   },
   "outputs": [],
   "source": [
    "X_train, X_test, y_train, y_test = train_test_split(train_pca, train_df[target])\n",
    "c, r = y_train.shape\n",
    "y_train = y_train.values.reshape(c, )"
   ]
  },
  {
   "cell_type": "code",
   "execution_count": 34,
   "metadata": {
    "collapsed": true
   },
   "outputs": [],
   "source": [
    "c, r = train_df[target].shape\n",
    "y_train = train_df[target].values.reshape(c, )"
   ]
  },
  {
   "cell_type": "code",
   "execution_count": 35,
   "metadata": {
    "collapsed": false
   },
   "outputs": [
    {
     "name": "stdout",
     "output_type": "stream",
     "text": [
      "Grid best parameter(max.AUC) is:  {'max_depth': 5, 'n_estimators': 10}\n",
      "Grid best score(AUC) is: 0.74\n"
     ]
    }
   ],
   "source": [
    "rm = RandomForestRegressor()\n",
    "grid_values = {'n_estimators': [10, 100], 'max_depth': [5, 10, 20, 30]}\n",
    "grid_rm = GridSearchCV(rm, param_grid = grid_values, scoring = 'roc_auc').fit(train_pca, y_train)\n",
    "print('Grid best parameter(max.AUC) is: ', grid_rm.best_params_)\n",
    "print('Grid best score(AUC) is: {:.2f}'.format(grid_rm.best_score_))"
   ]
  },
  {
   "cell_type": "code",
   "execution_count": 8,
   "metadata": {
    "collapsed": false
   },
   "outputs": [],
   "source": [
    "# rm = RandomForestRegressor()\n",
    "# grid_values = {'n_estimators': [10, 100], 'max_depth': [5, 10, 20, 30]}\n",
    "# grid_rm = GridSearchCV(rm, param_grid = grid_values, scoring = 'roc_auc').fit(X_train, y_train)\n",
    "# print('Grid best parameter(max.AUC) is: ', grid_rm.best_params_)\n",
    "# print('Grid best score(AUC) is: {:.2f}'.format(grid_rm.best_score_))"
   ]
  },
  {
   "cell_type": "code",
   "execution_count": null,
   "metadata": {
    "collapsed": true
   },
   "outputs": [],
   "source": [
    "# from sklearn.ensemble import RandomForestClassifier\n",
    "# from sklearn.model_selection import GridSearchCV\n",
    "# rm = RandomForestClassfier()\n",
    "# grid_values = {'n_estimators': [10, 100], 'max_depth': [10, 20, 30]}\n",
    "# grid_rm = GridSearchCV(rm, param_grid = grid_values, scoring = 'roc_auc').fit(X_train, y_train)"
   ]
  },
  {
   "cell_type": "code",
   "execution_count": 28,
   "metadata": {
    "collapsed": false
   },
   "outputs": [
    {
     "name": "stderr",
     "output_type": "stream",
     "text": [
      "/opt/conda/lib/python3.6/site-packages/IPython/core/interactiveshell.py:2717: DtypeWarning: Columns (11,12,31) have mixed types. Specify dtype option on import or set low_memory=False.\n",
      "  interactivity=interactivity, compiler=compiler, result=result)\n"
     ]
    }
   ],
   "source": [
    "# from sklearn.preprocessing import LabelEncoder\n",
    "# from sklearn.ensemble import RandomForestRegressor\n",
    "# from sklearn.model_selection import train_test_split, GridSearchCV\n",
    "# from sklearn.metrics import roc_auc_score\n",
    "\n",
    "# # load data\n",
    "# train = pd.read_csv('readonly/train.csv', encoding = \"ISO-8859-1\")\n",
    "# test = pd.read_csv('readonly/test.csv')\n",
    "# addresses = pd.read_csv('readonly/addresses.csv')\n",
    "# latlons = pd.read_csv('readonly/latlons.csv')\n",
    "\n",
    "# # pre-processing\n",
    "\n",
    "# # drop all rows with Null compliance\n",
    "# train = train[np.isfinite(train['compliance'])]\n",
    "# # drop all rows not in the U.S\n",
    "# train = train[train.country == 'USA']\n",
    "# test = test[test.country == 'USA']\n",
    "# # merge latlons and addresses with data\n",
    "# train = pd.merge(train, pd.merge(addresses, latlons, on='address'), on='ticket_id')\n",
    "# test = pd.merge(test, pd.merge(addresses, latlons, on='address'), on='ticket_id')\n",
    "# # drop all unnecessary columns\n",
    "# train.drop(['agency_name', 'inspector_name', 'violator_name', 'non_us_str_code', 'violation_description', \n",
    "#             'grafitti_status', 'state_fee', 'admin_fee', 'ticket_issued_date', 'hearing_date',\n",
    "#             # columns not available in test\n",
    "#             'payment_amount', 'balance_due', 'payment_date', 'payment_status', \n",
    "#             'collection_status', 'compliance_detail', \n",
    "#             # address related columns\n",
    "#             'violation_zip_code', 'country', 'address', 'violation_street_number',\n",
    "#             'violation_street_name', 'mailing_address_str_number', 'mailing_address_str_name', \n",
    "#             'city', 'state', 'zip_code', 'address'], axis=1, inplace=True)"
   ]
  },
  {
   "cell_type": "code",
   "execution_count": 31,
   "metadata": {
    "collapsed": false
   },
   "outputs": [],
   "source": [
    "# label_encoder = LabelEncoder()\n",
    "# label_encoder.fit(train['disposition'].append(test['disposition'], ignore_index=True))\n",
    "# train['disposition'] = label_encoder.transform(train['disposition'])\n",
    "# test['disposition'] = label_encoder.transform(test['disposition'])\n",
    "# label_encoder = LabelEncoder()\n",
    "# label_encoder.fit(train['violation_code'].append(test['violation_code'], ignore_index=True))\n",
    "# train['violation_code'] = label_encoder.transform(train['violation_code'])\n",
    "# test['violation_code'] = label_encoder.transform(test['violation_code'])\n",
    "# train['lat'] = train['lat'].fillna(train['lat'].mean())\n",
    "# train['lon'] = train['lon'].fillna(train['lon'].mean())\n",
    "# test['lat'] = test['lat'].fillna(test['lat'].mean())\n",
    "# test['lon'] = test['lon'].fillna(test['lon'].mean())\n",
    "# train_columns = list(train.columns.values)\n",
    "# train_columns.remove('compliance')\n",
    "# test = test[train_columns]"
   ]
  },
  {
   "cell_type": "code",
   "execution_count": 17,
   "metadata": {
    "collapsed": false
   },
   "outputs": [
    {
     "name": "stderr",
     "output_type": "stream",
     "text": [
      "/opt/conda/lib/python3.6/site-packages/IPython/core/interactiveshell.py:2717: DtypeWarning: Columns (11,12,31) have mixed types. Specify dtype option on import or set low_memory=False.\n",
      "  interactivity=interactivity, compiler=compiler, result=result)\n"
     ]
    }
   ],
   "source": [
    "# train_df = pd.read_csv('readonly/train.csv', encoding = 'ISO-8859-1')\n",
    "# test_df = pd.read_csv('readonly/test.csv', encoding = 'ISO-8859-1')\n",
    "# train_df = train_df[pd.notnull(train_df['compliance'])]\n",
    "# test_df.set_index('ticket_id', inplace = True)\n",
    "# target = ['compliance']\n",
    "# features = ['fine_amount', 'discount_amount', 'judgment_amount', 'late_fee','admin_fee', 'state_fee']\n",
    "# X_train, X_test, y_train, y_test = train_test_split(train_df[features], train_df[target], test_size = 0.2)"
   ]
  },
  {
   "cell_type": "code",
   "execution_count": 23,
   "metadata": {
    "collapsed": false
   },
   "outputs": [],
   "source": [
    "# from sklearn.linear_model import LogisticRegression\n",
    "# from sklearn.model_selection import GridSearchCV\n",
    "# lr = LogisticRegression()\n",
    "# grid_values = {'penalty': ['l1', 'l2'], 'C': [0.01, 0.1, 1, 10, 100]}\n",
    "# grid_lr = GridSearchCV(lr, param_grid = grid_values, scoring = 'roc_auc').fit(X_train, y_train)\n",
    "# y_pred = grid_lr.predict(X_test)"
   ]
  },
  {
   "cell_type": "code",
   "execution_count": 25,
   "metadata": {
    "collapsed": false
   },
   "outputs": [],
   "source": [
    "# train_score = grid_lr.socre(X_train, y_train)\n",
    "# test_score = grid_lr.score(X_test, y_test)\n",
    "# roc_auc = roc_auc_score(y_test, y_pred)"
   ]
  },
  {
   "cell_type": "code",
   "execution_count": 26,
   "metadata": {
    "collapsed": false
   },
   "outputs": [
    {
     "name": "stdout",
     "output_type": "stream",
     "text": [
      "The ROC_AUC score is 0.55\n"
     ]
    }
   ],
   "source": [
    "# print('The train score is {:.2f}'.format(train_score))\n",
    "# print('The test score is {:.2f}'.format(test_score))\n",
    "# print('The ROC_AUC score is {:.2f}'.format(roc_auc))"
   ]
  },
  {
   "cell_type": "code",
   "execution_count": 8,
   "metadata": {
    "collapsed": false
   },
   "outputs": [
    {
     "name": "stderr",
     "output_type": "stream",
     "text": [
      "/opt/conda/lib/python3.6/site-packages/sklearn/utils/validation.py:526: DataConversionWarning: A column-vector y was passed when a 1d array was expected. Please change the shape of y to (n_samples, ), for example using ravel().\n",
      "  y = column_or_1d(y, warn=True)\n"
     ]
    }
   ],
   "source": [
    "# from sklearn.svm import SVC\n",
    "# svc = SVC(C = 0.01, gamma = 0.01).fit(X_train, y_train)\n",
    "# y_pred = svc.predict(X_test)\n",
    "# train_score = svc.score(X_train, y_train)\n",
    "# test_score = svc.score(X_test, y_test)\n",
    "# roc_auc = roc_auc_score(y_test, y_pred)"
   ]
  },
  {
   "cell_type": "code",
   "execution_count": 9,
   "metadata": {
    "collapsed": false
   },
   "outputs": [
    {
     "name": "stdout",
     "output_type": "stream",
     "text": [
      "The train score is 0.93\n",
      "The test score is 0.93\n",
      "The ROC_AUC score is 0.55\n"
     ]
    }
   ],
   "source": [
    "# print('The train score is {:.2f}'.format(train_score))\n",
    "# print('The test score is {:.2f}'.format(test_score))\n",
    "# print('The ROC_AUC score is {:.2f}'.format(roc_auc))"
   ]
  },
  {
   "cell_type": "code",
   "execution_count": 5,
   "metadata": {
    "collapsed": false
   },
   "outputs": [
    {
     "name": "stderr",
     "output_type": "stream",
     "text": [
      "/opt/conda/lib/python3.6/site-packages/sklearn/neural_network/multilayer_perceptron.py:904: DataConversionWarning: A column-vector y was passed when a 1d array was expected. Please change the shape of y to (n_samples, ), for example using ravel().\n",
      "  y = column_or_1d(y, warn=True)\n"
     ]
    }
   ],
   "source": [
    "# from sklearn.neural_network import MLPClassifier\n",
    "# nnclf = MLPClassifier(solver='lbfgs', activation = 'logistic', alpha = 0.1, hidden_layer_sizes = [10, 10],\n",
    "#                          random_state = 0).fit(X_train, y_train)\n",
    "# y_pred = nnclf.predict(X_test)\n",
    "# train_score = nnclf.score(X_train, y_train)\n",
    "# test_score = nnclf.score(X_test, y_test)\n",
    "# roc_auc = roc_auc_score(y_test, y_pred)"
   ]
  },
  {
   "cell_type": "code",
   "execution_count": 6,
   "metadata": {
    "collapsed": false
   },
   "outputs": [
    {
     "name": "stdout",
     "output_type": "stream",
     "text": [
      "The train score is 0.93\n",
      "The test score is 0.94\n",
      "The ROC_AUC score is 0.56\n"
     ]
    }
   ],
   "source": [
    "# print('The train score is {:.2f}'.format(train_score))\n",
    "# print('The test score is {:.2f}'.format(test_score))\n",
    "# print('The ROC_AUC score is {:.2f}'.format(roc_auc))"
   ]
  },
  {
   "cell_type": "code",
   "execution_count": 7,
   "metadata": {
    "collapsed": false
   },
   "outputs": [
    {
     "name": "stderr",
     "output_type": "stream",
     "text": [
      "/opt/conda/lib/python3.6/site-packages/sklearn/utils/validation.py:526: DataConversionWarning: A column-vector y was passed when a 1d array was expected. Please change the shape of y to (n_samples, ), for example using ravel().\n",
      "  y = column_or_1d(y, warn=True)\n"
     ]
    }
   ],
   "source": [
    "# from sklearn.ensemble import GradientBoostingClassifier\n",
    "# target = ['compliance']\n",
    "# features = ['fine_amount', 'discount_amount', 'judgment_amount', 'late_fee']\n",
    "# X_train, X_test, y_train, y_test = train_test_split(train_df[features], train_df[target], test_size = 0.2)\n",
    "\n",
    "# gbc = GradientBoostingClassifier(max_depth = 3, max_features = 4, learning_rate = 0.1, random_state = 0).fit(X_train, y_train)\n",
    "# y_pred = gbc.predict(X_test)\n",
    "# train_score = gbc.score(X_train, y_train)\n",
    "# test_score = gbc.score(X_test, y_test)\n",
    "# roc_auc = roc_auc_score(y_test, y_pred)"
   ]
  },
  {
   "cell_type": "code",
   "execution_count": 8,
   "metadata": {
    "collapsed": false
   },
   "outputs": [
    {
     "name": "stdout",
     "output_type": "stream",
     "text": [
      "The train score is 0.94\n",
      "The test score is 0.94\n",
      "The ROC_AUC score is 0.55\n"
     ]
    }
   ],
   "source": [
    "# print('The train score is {:.2f}'.format(train_score))\n",
    "# print('The test score is {:.2f}'.format(test_score))\n",
    "# print('The ROC_AUC score is {:.2f}'.format(roc_auc))"
   ]
  },
  {
   "cell_type": "code",
   "execution_count": null,
   "metadata": {
    "collapsed": true
   },
   "outputs": [],
   "source": []
  }
 ],
 "metadata": {
  "coursera": {
   "course_slug": "python-machine-learning",
   "graded_item_id": "nNS8l",
   "launcher_item_id": "yWWk7",
   "part_id": "w8BSS"
  },
  "kernelspec": {
   "display_name": "Python 3",
   "language": "python",
   "name": "python3"
  },
  "language_info": {
   "codemirror_mode": {
    "name": "ipython",
    "version": 3
   },
   "file_extension": ".py",
   "mimetype": "text/x-python",
   "name": "python",
   "nbconvert_exporter": "python",
   "pygments_lexer": "ipython3",
   "version": "3.6.2"
  }
 },
 "nbformat": 4,
 "nbformat_minor": 2
}
